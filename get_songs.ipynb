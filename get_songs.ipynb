{
 "cells": [
  {
   "cell_type": "code",
   "execution_count": 116,
   "metadata": {},
   "outputs": [],
   "source": [
    "import requests\n",
    "import json\n",
    "import pandas as pd\n",
    "from bs4 import BeautifulSoup\n",
    "import os\n",
    "import re"
   ]
  },
  {
   "cell_type": "code",
   "execution_count": 11,
   "metadata": {},
   "outputs": [],
   "source": [
    "client_id = \"zuo60iNcVNsA5BmyfHL64nzVMAfZ-suiFONibf8_EjOPXeUQgrIqX-w3CA-RRji8\"\n",
    "client_secret = \"KsD2On2pG2zR7vgvTLkp7zW5i3LHoKuIB8OqyN0uV-AAIocMwwi8JQTeaolFozKSvQpiQkH6V0wGh6Jr7qSW1w\"\n",
    "token = \"_Q2Mi2ftYFYIkFAUPY9lfkROyNXdj5ML8_6riblV-YCcfHvEvhy5k5Ax5zcWvd-E\"\n",
    "artist_name = 'taylor swift'"
   ]
  },
  {
   "cell_type": "markdown",
   "metadata": {},
   "source": [
    "###  Function to call the API for Genius, a music information website, using the requests module. First, the function calls to get Swift’s general search information. From this it extracts her artist ID, which is needed to make a call to get her song names and song IDs. Then, to classify the songs by album, it makes calls using each song’s ID. Note: the function can only return one dataframe per call."
   ]
  },
  {
   "cell_type": "code",
   "execution_count": 146,
   "metadata": {},
   "outputs": [],
   "source": [
    "def make_call(show_songs_df, lyrics, albums):\n",
    "    \n",
    "    url = \"https://api.genius.com/search\"\n",
    "    payload = {'access_token': token, 'q': artist_name}\n",
    "    r = requests.get(url, params=payload)\n",
    "    search_response = r.json()\n",
    "    artist_id = search_response['response']['hits'][0]['result']['primary_artist']['id']\n",
    "    \n",
    "    page_number = 1\n",
    "    song_names_ids = []\n",
    "    while True:\n",
    "        url2 = \"https://api.genius.com/artists/\"\n",
    "        payload2 = {'access_token': token,\n",
    "                    'sort': 'popularity',\n",
    "                    'per_page': 50,\n",
    "                    'page': page_number}\n",
    "        r2 = requests.get(url2 + str(artist_id) + \"/songs\", params=payload2)\n",
    "        artist_songs_response = r2.json()\n",
    "        songs = artist_songs_response['response']['songs']\n",
    "\n",
    "        for song in songs:\n",
    "            new_song = {}\n",
    "            new_song['title'] = song['title']\n",
    "            new_song['song_id'] = song['id']\n",
    "            song_names_ids.append(new_song)\n",
    "\n",
    "        if len(songs) < 50:\n",
    "            break\n",
    "        page_number += 1\n",
    "    \n",
    "    if show_songs_df == True:\n",
    "        song_names_ids_df = pd.DataFrame(data=song_names_ids)\n",
    "        return song_names_ids_df\n",
    "    \n",
    "    if lyrics == True:\n",
    "        songs_and_lyrics = {}\n",
    "        for song in song_names_ids:\n",
    "            api_url = \"https://api.genius.com/songs/\"\n",
    "            payload = {'access_token': token}\n",
    "            r = requests.get(api_url + str(song['song_id']), params=payload)\n",
    "            song_response = r.json()\n",
    "            lyrics_path = song_response['response']['song']['path']\n",
    "    \n",
    "            page_url = \"http://genius.com\" + lyrics_path\n",
    "            page = requests.get(page_url)\n",
    "            html = BeautifulSoup(page.text, 'html.parser')\n",
    "#             [h.extract() for h in html('script')]\n",
    "            \n",
    "            songs_and_lyrics[song['title']] = []\n",
    "            lyrics_html = html.find('div', class_='lyrics')\n",
    "            if lyrics_html is not None:\n",
    "                retrieved_lyrics = lyrics_html.get_text()\n",
    "                songs_and_lyrics[song['title']].append(retrieved_lyrics)\n",
    "#                 retrieved_lyrics = lyrics_html.get_text()\n",
    "#             except AttributeError:\n",
    "#                 print(\"AttributeError\")\n",
    "            \n",
    "#             songs_and_lyrics[song['title']] = retrieved_lyrics\n",
    "    \n",
    "#         songs_and_lyrics_df = pd.DataFrame.from_records(data=songs_and_lyrics, index=list(range(0,249))\n",
    "        print(songs_and_lyrics)\n",
    "    \n",
    "    if albums == True:\n",
    "        songs_and_albums = []\n",
    "        for song in song_names_ids:\n",
    "            new_song = {}\n",
    "            url3 = \"https://api.genius.com/songs/\"\n",
    "            payload3 = {'access_token': token}\n",
    "            r3 = requests.get(url3 + str(song['song_id']), params=payload3)\n",
    "            song_album_response = r3.json()\n",
    "            new_song['song'] = song_album_response['response']['song']['title']\n",
    "            try:\n",
    "                new_song['album'] = song_album_response['response']['song']['album']['name']\n",
    "            except:\n",
    "                new_song['album'] = \"Unknown\"\n",
    "            songs_and_albums.append(new_song)\n",
    "            \n",
    "        filename = 'songs_and_albums.json'\n",
    "        with open(filename, 'w') as f_obj:\n",
    "            json.dump(songs_and_albums, f_obj)\n",
    "\n",
    "        songs_and_albums_df = pd.DataFrame(data=songs_and_albums)\n",
    "        return songs_and_albums_df"
   ]
  },
  {
   "cell_type": "markdown",
   "metadata": {},
   "source": [
    "### First, I execute the make_call() function to return the dataframe of song names and song IDs."
   ]
  },
  {
   "cell_type": "code",
   "execution_count": 42,
   "metadata": {
    "scrolled": true
   },
   "outputs": [],
   "source": [
    "song_names_ids_df = make_call(show_songs_df=True, albums=False)"
   ]
  },
  {
   "cell_type": "code",
   "execution_count": 43,
   "metadata": {
    "scrolled": true
   },
   "outputs": [
    {
     "data": {
      "text/html": [
       "<div>\n",
       "<style scoped>\n",
       "    .dataframe tbody tr th:only-of-type {\n",
       "        vertical-align: middle;\n",
       "    }\n",
       "\n",
       "    .dataframe tbody tr th {\n",
       "        vertical-align: top;\n",
       "    }\n",
       "\n",
       "    .dataframe thead th {\n",
       "        text-align: right;\n",
       "    }\n",
       "</style>\n",
       "<table border=\"1\" class=\"dataframe\">\n",
       "  <thead>\n",
       "    <tr style=\"text-align: right;\">\n",
       "      <th></th>\n",
       "      <th>title</th>\n",
       "      <th>song_id</th>\n",
       "    </tr>\n",
       "  </thead>\n",
       "  <tbody>\n",
       "    <tr>\n",
       "      <th>0</th>\n",
       "      <td>​cardigan</td>\n",
       "      <td>5793984</td>\n",
       "    </tr>\n",
       "    <tr>\n",
       "      <th>1</th>\n",
       "      <td>​exile</td>\n",
       "      <td>5793983</td>\n",
       "    </tr>\n",
       "    <tr>\n",
       "      <th>2</th>\n",
       "      <td>Lover</td>\n",
       "      <td>4508914</td>\n",
       "    </tr>\n",
       "    <tr>\n",
       "      <th>3</th>\n",
       "      <td>​the 1</td>\n",
       "      <td>5794073</td>\n",
       "    </tr>\n",
       "    <tr>\n",
       "      <th>4</th>\n",
       "      <td>Look What You Made Me Do</td>\n",
       "      <td>3210592</td>\n",
       "    </tr>\n",
       "    <tr>\n",
       "      <th>...</th>\n",
       "      <td>...</td>\n",
       "      <td>...</td>\n",
       "    </tr>\n",
       "    <tr>\n",
       "      <th>244</th>\n",
       "      <td>I’d Lie</td>\n",
       "      <td>187250</td>\n",
       "    </tr>\n",
       "    <tr>\n",
       "      <th>245</th>\n",
       "      <td>Forever &amp; Always (Piano Version) [Taylor’s Ver...</td>\n",
       "      <td>6478860</td>\n",
       "    </tr>\n",
       "    <tr>\n",
       "      <th>246</th>\n",
       "      <td>Brought Up That Way</td>\n",
       "      <td>187116</td>\n",
       "    </tr>\n",
       "    <tr>\n",
       "      <th>247</th>\n",
       "      <td>I Heart ?</td>\n",
       "      <td>187203</td>\n",
       "    </tr>\n",
       "    <tr>\n",
       "      <th>248</th>\n",
       "      <td>Today Was a Fairytale</td>\n",
       "      <td>187443</td>\n",
       "    </tr>\n",
       "  </tbody>\n",
       "</table>\n",
       "<p>249 rows × 2 columns</p>\n",
       "</div>"
      ],
      "text/plain": [
       "                                                 title  song_id\n",
       "0                                            ​cardigan  5793984\n",
       "1                                               ​exile  5793983\n",
       "2                                                Lover  4508914\n",
       "3                                               ​the 1  5794073\n",
       "4                             Look What You Made Me Do  3210592\n",
       "..                                                 ...      ...\n",
       "244                                            I’d Lie   187250\n",
       "245  Forever & Always (Piano Version) [Taylor’s Ver...  6478860\n",
       "246                                Brought Up That Way   187116\n",
       "247                                          I Heart ?   187203\n",
       "248                              Today Was a Fairytale   187443\n",
       "\n",
       "[249 rows x 2 columns]"
      ]
     },
     "execution_count": 43,
     "metadata": {},
     "output_type": "execute_result"
    }
   ],
   "source": [
    "song_names_ids_df"
   ]
  },
  {
   "cell_type": "markdown",
   "metadata": {},
   "source": [
    "### I save this dataframe to a CSV file in order to store it in my PostgreSQL database."
   ]
  },
  {
   "cell_type": "code",
   "execution_count": 20,
   "metadata": {
    "collapsed": true
   },
   "outputs": [],
   "source": [
    "song_names_ids_df.to_csv('song_names_ids.csv',index=False)"
   ]
  },
  {
   "cell_type": "markdown",
   "metadata": {},
   "source": [
    "### Then I execute the make_call() function to return the dataframe of songs and albums."
   ]
  },
  {
   "cell_type": "code",
   "execution_count": 38,
   "metadata": {},
   "outputs": [],
   "source": [
    "songs_and_albums_df = make_call(show_songs_df=False, albums=True)"
   ]
  },
  {
   "cell_type": "code",
   "execution_count": 44,
   "metadata": {
    "scrolled": true
   },
   "outputs": [
    {
     "data": {
      "text/html": [
       "<div>\n",
       "<style scoped>\n",
       "    .dataframe tbody tr th:only-of-type {\n",
       "        vertical-align: middle;\n",
       "    }\n",
       "\n",
       "    .dataframe tbody tr th {\n",
       "        vertical-align: top;\n",
       "    }\n",
       "\n",
       "    .dataframe thead th {\n",
       "        text-align: right;\n",
       "    }\n",
       "</style>\n",
       "<table border=\"1\" class=\"dataframe\">\n",
       "  <thead>\n",
       "    <tr style=\"text-align: right;\">\n",
       "      <th></th>\n",
       "      <th>song</th>\n",
       "      <th>album</th>\n",
       "    </tr>\n",
       "  </thead>\n",
       "  <tbody>\n",
       "    <tr>\n",
       "      <th>0</th>\n",
       "      <td>​cardigan</td>\n",
       "      <td>folklore</td>\n",
       "    </tr>\n",
       "    <tr>\n",
       "      <th>1</th>\n",
       "      <td>​exile</td>\n",
       "      <td>folklore</td>\n",
       "    </tr>\n",
       "    <tr>\n",
       "      <th>2</th>\n",
       "      <td>Lover</td>\n",
       "      <td>Lover</td>\n",
       "    </tr>\n",
       "    <tr>\n",
       "      <th>3</th>\n",
       "      <td>​the 1</td>\n",
       "      <td>folklore</td>\n",
       "    </tr>\n",
       "    <tr>\n",
       "      <th>4</th>\n",
       "      <td>Look What You Made Me Do</td>\n",
       "      <td>reputation</td>\n",
       "    </tr>\n",
       "    <tr>\n",
       "      <th>...</th>\n",
       "      <td>...</td>\n",
       "      <td>...</td>\n",
       "    </tr>\n",
       "    <tr>\n",
       "      <th>244</th>\n",
       "      <td>I’d Lie</td>\n",
       "      <td>Unreleased Songs</td>\n",
       "    </tr>\n",
       "    <tr>\n",
       "      <th>245</th>\n",
       "      <td>Forever &amp; Always (Piano Version) [Taylor’s Ver...</td>\n",
       "      <td>Fearless (Taylor’s Version)</td>\n",
       "    </tr>\n",
       "    <tr>\n",
       "      <th>246</th>\n",
       "      <td>Brought Up That Way</td>\n",
       "      <td>Unreleased Songs</td>\n",
       "    </tr>\n",
       "    <tr>\n",
       "      <th>247</th>\n",
       "      <td>I Heart ?</td>\n",
       "      <td>Taylor Swift (Best Buy Exclusive)</td>\n",
       "    </tr>\n",
       "    <tr>\n",
       "      <th>248</th>\n",
       "      <td>Today Was a Fairytale</td>\n",
       "      <td>Valentine’s Day (Original Motion Picture Sound...</td>\n",
       "    </tr>\n",
       "  </tbody>\n",
       "</table>\n",
       "<p>249 rows × 2 columns</p>\n",
       "</div>"
      ],
      "text/plain": [
       "                                                  song  \\\n",
       "0                                            ​cardigan   \n",
       "1                                               ​exile   \n",
       "2                                                Lover   \n",
       "3                                               ​the 1   \n",
       "4                             Look What You Made Me Do   \n",
       "..                                                 ...   \n",
       "244                                            I’d Lie   \n",
       "245  Forever & Always (Piano Version) [Taylor’s Ver...   \n",
       "246                                Brought Up That Way   \n",
       "247                                          I Heart ?   \n",
       "248                              Today Was a Fairytale   \n",
       "\n",
       "                                                 album  \n",
       "0                                             folklore  \n",
       "1                                             folklore  \n",
       "2                                                Lover  \n",
       "3                                             folklore  \n",
       "4                                           reputation  \n",
       "..                                                 ...  \n",
       "244                                   Unreleased Songs  \n",
       "245                        Fearless (Taylor’s Version)  \n",
       "246                                   Unreleased Songs  \n",
       "247                 Taylor Swift (Best Buy Exclusive)   \n",
       "248  Valentine’s Day (Original Motion Picture Sound...  \n",
       "\n",
       "[249 rows x 2 columns]"
      ]
     },
     "execution_count": 44,
     "metadata": {},
     "output_type": "execute_result"
    }
   ],
   "source": [
    "songs_and_albums_df"
   ]
  },
  {
   "cell_type": "markdown",
   "metadata": {},
   "source": [
    "### I also save this dataframe to a CSV file to store it in my PostgreSQL database."
   ]
  },
  {
   "cell_type": "code",
   "execution_count": 30,
   "metadata": {},
   "outputs": [],
   "source": [
    "songs_and_albums_df.to_csv('songs_and_albums.csv',index=False)"
   ]
  },
  {
   "attachments": {},
   "cell_type": "markdown",
   "metadata": {},
   "source": [
    "### I iterate through this dataframe to create one long list of all the song names. "
   ]
  },
  {
   "cell_type": "code",
   "execution_count": 45,
   "metadata": {
    "scrolled": true
   },
   "outputs": [
    {
     "name": "stdout",
     "output_type": "stream",
     "text": [
      "['\\u200bcardigan', '\\u200bexile', 'Lover', '\\u200bthe 1', 'Look What You Made Me Do', '\\u200bbetty', 'End Game', '\\u200baugust', 'You Need To Calm Down', 'ME!', 'Blank Space', '...Ready for It?', '\\u200bchampagne problems', '\\u200bmy tears ricochet', '\\u200bwillow', '\\u200binvisible string', '\\u200bthe last great american dynasty', 'Cruel Summer', 'Delicate', 'Call It What You Want', 'Bad Blood (Remix)', 'Style', '\\u200bseven', 'I Don’t Wanna Live Forever', '\\u200billicit affairs', '\\u200bthis is me trying', 'Love Story', 'Gorgeous', '\\u200bevermore', '\\u200bhappiness', '\\u200bpeace', '\\u200bmad woman', '\\u200bmirrorball', 'The Man', 'Don’t Blame Me', 'I Did Something Bad', 'Dress', '\\u200btolerate it', '\\u200bno body, no crime', '\\u200bhoax', '\\u200bgold rush', 'Getaway Car', '\\u200bivy', '\\u200bepiphany', 'The Archer', 'All Too Well', 'Mr. Perfectly Fine (Taylor’s Version) [From the Vault]', 'Bad Blood', 'Miss Americana & The Heartbreak Prince', 'London Boy', 'Cornelia Street', 'Wildest Dreams', '\\u200b’tis the damn season', '1 step forward, 3 steps back', 'King of My Heart', 'Daylight', 'Death by a Thousand Cuts', '\\u200bthe lakes', 'I Forgot That You Existed', 'New Year’s Day', 'Paper Rings', 'So It Goes...', '\\u200bconey island', 'This Is Why We Can’t Have Nice Things', 'False God', '\\u200bdorothea', '\\u200bcowboy like me', 'I Think He Knows', 'Dancing with Our Hands Tied', 'Afterglow', 'Soon You’ll Get Better', '\\u200bl\\u200bong story short', '\\u200bmarjorie', 'Clean', '\\u200bclosure', 'You Belong with Me', 'This Is What You Came For', 'Out of the Woods', 'Shake It Off', 'It’s Nice to Have a Friend', 'Why She Disappeared [Poem]', '\\u200br\\u200bight where you left me', 'I Knew You Were Trouble.', '\\u200bit’s time to go', 'You All Over Me (Taylor’s Version) [From the Vault]', 'We Are Never Ever Getting Back Together', 'New Romantics', '22', 'Wonderland', 'You Are in Love', 'This Love', 'Dear John', 'Lover (Remix)', 'Everything Has Changed', 'State of Grace', 'Better Man', 'I Know Places', 'Safe & Sound', 'All You Had to Do Was Stay', 'Red', 'Begin Again', 'Holy Ground', 'Love Story (Taylor’s Version)', 'Enchanted', 'Welcome to New York', 'I Wish You Would', 'If You’re Anything Like Me [Poem]', 'Reputation [Prologue]', 'Last Kiss', 'Only The Young', 'Long Live', 'Mine', 'Treacherous', 'How You Get the Girl', 'Better Than Revenge', 'Babe', 'Back to December', 'That’s When (Taylor’s Version) [From the Vault]', 'Mean', 'The Moment I Knew', 'Fifteen', 'Fearless', 'Beautiful Ghosts', 'The Last Time', 'Don’t You (Taylor’s Version) [From the Vault]', 'Teardrops on My Guitar', 'The Lucky One', 'Sad Beautiful Tragic', 'Sparks Fly', 'We Were Happy (Taylor’s Version) [From the Vault]', 'I Almost Do', 'White Horse', 'Both of Us', 'Innocent', 'Picture to Burn', 'Christmas Tree Farm', 'The Way I Loved You', 'The Story of Us', 'Bye Bye Baby (Taylor’s Version) [From the Vault]', 'Our Song', 'Haunted', 'Forever & Always', 'Breathe', 'Starlight', 'Come Back... Be Here', 'You’ll Always Find Your Way Back Home', 'Tim McGraw', 'Ours', 'Speak Now', 'Never Grow Up', 'Stay Stay Stay', 'Hey Stephen', 'Red (Original Demo Recording)', 'I Knew You Were Trouble (Intro)', 'The Best Day', 'Half of My Heart', 'Should’ve Said No', 'You’re Not Sorry', 'Untouchable', 'If This Was a Movie', 'Reputation Magazine Vol. 1', 'Let’s Go (Battle)', 'September', 'Cold as You', 'Gasoline (Remix)', 'Change', 'Girl at Home', 'Back to December / Apologize / You’re Not Sorry (Live/2011)', 'Tied Together with a Smile', 'The Other Side of the Door', 'Mary’s Song (Oh My My My)', 'Ronan', 'Tell Me Why', 'Unreleased Songs [Discography List]', 'Jump Then Fall', 'MTV VMAs 2015: Vanguard Acceptance Speech', 'I Know Places (Voice Memo)', 'Superman', 'Blank Space (Voice Memo)', '1989 [Liner Notes]', 'I’m Only Me When I’m with You', 'Stay Beautiful', 'Two Is Better Than One', 'Fearless (Taylor’s Version)', 'SuperStar', 'Highway Don’t Care', 'Red [Liner Notes]', 'Come In With the Rain', 'Crazier', 'The Outside', 'Speak Now [Liner Notes]', 'Red (Live cover)', 'Invisible', 'A Place In This World', 'Macavity', 'Sparks Fly (Original Version)', 'The Way I Loved You (Taylor’s Version)', 'You Belong With Me (Taylor’s Version)', '1989 [Booklet]', 'Eyes Open', 'Hey Stephen (Taylor’s Version)', 'A Perfectly Good Heart', 'Speak Now Tour Setlist', 'Fifteen (Taylor’s Version)', 'Blank Space', 'Sweeter Than Fiction', 'White Horse (Taylor’s Version)', 'I Wish You Would (Voice Memo)', 'Breathe (Taylor’s Version)', 'Enchanted', 'Dark Blue Tennessee', 'Forever & Always (Taylor’s Version)', 'The Other Side of the Door (Taylor’s Version)', 'You’re Not Sorry (Taylor’s Version)', 'Untouchable (Taylor’s Version)', 'R.E.V.E.N.G.E.', 'Fearless [Liner Notes]', 'Tell Me Why (Taylor’s Version)', 'Last Christmas', 'Need You Now', 'Sweet Tea and God’s Graces', 'Today Was a Fairytale (Taylor’s Version)', 'Thug Story', 'Reputation Tour Setlist', 'Mine', 'Jump Then Fall (Taylor’s Version)', 'Album of the Year Acceptance Speech (Grammys 2016)', 'Change (Taylor’s Version)', 'Beautiful Eyes', 'The Best Day (Taylor’s Version)', 'A Monster In My Closet!', 'Blank Space/Stand By Me - Live From Spotify London', 'Superstar (Taylor’s Version)', 'Forever & Always (Piano Version)', 'Come In With the Rain (Taylor’s Version)', 'Wildest Dreams / Enchanted', 'Kanye West & Taylor Swift’s ‘Famous’ Lyric Phone Conversation', 'Clean Speeches', 'Didn’t They', 'Lover [Foreword]', 'This Is What You Came For (Demo)', 'Permanent Marker', '\\u200bcardigan (voice memo)', 'Long Live/New Year’s Day', 'I’d Lie', 'Forever & Always (Piano Version) [Taylor’s Version]', 'Brought Up That Way', 'I Heart ?', 'Today Was a Fairytale']\n"
     ]
    }
   ],
   "source": [
    "song_names = []\n",
    "for index in range(len(songs_and_albums_df)):\n",
    "    song = songs_and_albums_df['song'].iloc[index]\n",
    "    song_names.append(song)\n",
    "print(song_names)"
   ]
  },
  {
   "attachments": {},
   "cell_type": "markdown",
   "metadata": {},
   "source": [
    "### The list of song names is in Unicode, so I convert it to ASCII and decode it."
   ]
  },
  {
   "cell_type": "code",
   "execution_count": 46,
   "metadata": {
    "scrolled": true
   },
   "outputs": [
    {
     "name": "stdout",
     "output_type": "stream",
     "text": [
      "['cardigan', 'exile', 'Lover', 'the 1', 'Look What You Made Me Do', 'betty', 'End Game', 'august', 'You Need To Calm Down', 'ME!', 'Blank Space', '...Ready for It?', 'champagne problems', 'my tears ricochet', 'willow', 'invisible string', 'the last great american dynasty', 'Cruel Summer', 'Delicate', 'Call It What You Want', 'Bad Blood (Remix)', 'Style', 'seven', 'I Dont Wanna Live Forever', 'illicit affairs', 'this is me trying', 'Love Story', 'Gorgeous', 'evermore', 'happiness', 'peace', 'mad woman', 'mirrorball', 'The Man', 'Dont Blame Me', 'I Did Something Bad', 'Dress', 'tolerate it', 'no body, no crime', 'hoax', 'gold rush', 'Getaway Car', 'ivy', 'epiphany', 'The Archer', 'All Too Well', 'Mr. Perfectly Fine (Taylors Version) [From the Vault]', 'Bad Blood', 'Miss Americana & The Heartbreak Prince', 'London Boy', 'Cornelia Street', 'Wildest Dreams', 'tis the damn season', '1 step forward, 3 steps back', 'King of My Heart', 'Daylight', 'Death by a Thousand Cuts', 'the lakes', 'I Forgot That You Existed', 'New Years Day', 'Paper Rings', 'So It Goes...', 'coney island', 'This Is Why We Cant Have Nice Things', 'False God', 'dorothea', 'cowboy like me', 'I Think He Knows', 'Dancing with Our Hands Tied', 'Afterglow', 'Soon Youll Get Better', 'long story short', 'marjorie', 'Clean', 'closure', 'You Belong with Me', 'This Is What You Came For', 'Out of the Woods', 'Shake It Off', 'Its Nice to Have a Friend', 'Why She Disappeared [Poem]', 'right where you left me', 'I Knew You Were Trouble.', 'its time to go', 'You All Over Me (Taylors Version) [From the Vault]', 'We Are Never Ever Getting Back Together', 'New Romantics', '22', 'Wonderland', 'You Are in Love', 'This Love', 'Dear John', 'Lover (Remix)', 'Everything Has Changed', 'State of Grace', 'Better Man', 'I Know Places', 'Safe & Sound', 'All You Had to Do Was Stay', 'Red', 'Begin Again', 'Holy Ground', 'Love Story (Taylors Version)', 'Enchanted', 'Welcome to New York', 'I Wish You Would', 'If Youre Anything Like Me [Poem]', 'Reputation [Prologue]', 'Last Kiss', 'Only The Young', 'Long Live', 'Mine', 'Treacherous', 'How You Get the Girl', 'Better Than Revenge', 'Babe', 'Back to December', 'Thats When (Taylors Version) [From the Vault]', 'Mean', 'The Moment I Knew', 'Fifteen', 'Fearless', 'Beautiful Ghosts', 'The Last Time', 'Dont You (Taylors Version) [From the Vault]', 'Teardrops on My Guitar', 'The Lucky One', 'Sad Beautiful Tragic', 'Sparks Fly', 'We Were Happy (Taylors Version) [From the Vault]', 'I Almost Do', 'White Horse', 'Both of Us', 'Innocent', 'Picture to Burn', 'Christmas Tree Farm', 'The Way I Loved You', 'The Story of Us', 'Bye Bye Baby (Taylors Version) [From the Vault]', 'Our Song', 'Haunted', 'Forever & Always', 'Breathe', 'Starlight', 'Come Back... Be Here', 'Youll Always Find Your Way Back Home', 'Tim McGraw', 'Ours', 'Speak Now', 'Never Grow Up', 'Stay Stay Stay', 'Hey Stephen', 'Red (Original Demo Recording)', 'I Knew You Were Trouble (Intro)', 'The Best Day', 'Half of My Heart', 'Shouldve Said No', 'Youre Not Sorry', 'Untouchable', 'If This Was a Movie', 'Reputation Magazine Vol. 1', 'Lets Go (Battle)', 'September', 'Cold as You', 'Gasoline (Remix)', 'Change', 'Girl at Home', 'Back to December / Apologize / Youre Not Sorry (Live/2011)', 'Tied Together with a Smile', 'The Other Side of the Door', 'Marys Song (Oh My My My)', 'Ronan', 'Tell Me Why', 'Unreleased Songs [Discography List]', 'Jump Then Fall', 'MTV VMAs 2015: Vanguard Acceptance Speech', 'I Know Places (Voice Memo)', 'Superman', 'Blank Space (Voice Memo)', '1989 [Liner Notes]', 'Im Only Me When Im with You', 'Stay Beautiful', 'Two Is Better Than One', 'Fearless (Taylors Version)', 'SuperStar', 'Highway Dont Care', 'Red [Liner Notes]', 'Come In With the Rain', 'Crazier', 'The Outside', 'Speak Now [Liner Notes]', 'Red (Live cover)', 'Invisible', 'A Place In This World', 'Macavity', 'Sparks Fly (Original Version)', 'The Way I Loved You (Taylors Version)', 'You Belong With Me (Taylors Version)', '1989 [Booklet]', 'Eyes Open', 'Hey Stephen (Taylors Version)', 'A Perfectly Good Heart', 'Speak Now Tour Setlist', 'Fifteen (Taylors Version)', 'Blank Space', 'Sweeter Than Fiction', 'White Horse (Taylors Version)', 'I Wish You Would (Voice Memo)', 'Breathe (Taylors Version)', 'Enchanted', 'Dark Blue Tennessee', 'Forever & Always (Taylors Version)', 'The Other Side of the Door (Taylors Version)', 'Youre Not Sorry (Taylors Version)', 'Untouchable (Taylors Version)', 'R.E.V.E.N.G.E.', 'Fearless [Liner Notes]', 'Tell Me Why (Taylors Version)', 'Last Christmas', 'Need You Now', 'Sweet Tea and Gods Graces', 'Today Was a Fairytale (Taylors Version)', 'Thug Story', 'Reputation Tour Setlist', 'Mine', 'Jump Then Fall (Taylors Version)', 'Album of the Year Acceptance Speech (Grammys 2016)', 'Change (Taylors Version)', 'Beautiful Eyes', 'The Best Day (Taylors Version)', 'A Monster In My Closet!', 'Blank Space/Stand By Me - Live From Spotify London', 'Superstar (Taylors Version)', 'Forever & Always (Piano Version)', 'Come In With the Rain (Taylors Version)', 'Wildest Dreams / Enchanted', 'Kanye West & Taylor Swifts Famous Lyric Phone Conversation', 'Clean Speeches', 'Didnt They', 'Lover [Foreword]', 'This Is What You Came For (Demo)', 'Permanent Marker', 'cardigan (voice memo)', 'Long Live/New Years Day', 'Id Lie', 'Forever & Always (Piano Version) [Taylors Version]', 'Brought Up That Way', 'I Heart ?', 'Today Was a Fairytale']\n"
     ]
    }
   ],
   "source": [
    "converted_song_names = []\n",
    "for song_name in song_names:\n",
    "    converted_song_name = song_name.encode('ascii', 'ignore').decode()\n",
    "    converted_song_names.append(converted_song_name)\n",
    "print(converted_song_names)"
   ]
  },
  {
   "cell_type": "code",
   "execution_count": 147,
   "metadata": {
    "scrolled": true
   },
   "outputs": [
    {
     "ename": "UnboundLocalError",
     "evalue": "local variable 'retrieved_lyrics' referenced before assignment",
     "output_type": "error",
     "traceback": [
      "\u001b[0;31m---------------------------------------------------------------------------\u001b[0m",
      "\u001b[0;31mUnboundLocalError\u001b[0m                         Traceback (most recent call last)",
      "\u001b[0;32m<ipython-input-147-4121dd462c40>\u001b[0m in \u001b[0;36m<module>\u001b[0;34m\u001b[0m\n\u001b[0;32m----> 1\u001b[0;31m \u001b[0msongs_and_lyrics\u001b[0m \u001b[0;34m=\u001b[0m \u001b[0mmake_call\u001b[0m\u001b[0;34m(\u001b[0m\u001b[0mshow_songs_df\u001b[0m\u001b[0;34m=\u001b[0m\u001b[0;32mFalse\u001b[0m\u001b[0;34m,\u001b[0m \u001b[0mlyrics\u001b[0m\u001b[0;34m=\u001b[0m\u001b[0;32mTrue\u001b[0m\u001b[0;34m,\u001b[0m \u001b[0malbums\u001b[0m\u001b[0;34m=\u001b[0m\u001b[0;32mFalse\u001b[0m\u001b[0;34m)\u001b[0m\u001b[0;34m\u001b[0m\u001b[0;34m\u001b[0m\u001b[0m\n\u001b[0m",
      "\u001b[0;32m<ipython-input-146-7f5b8d11a989>\u001b[0m in \u001b[0;36mmake_call\u001b[0;34m(show_songs_df, lyrics, albums)\u001b[0m\n\u001b[1;32m     51\u001b[0m             \u001b[0;32mif\u001b[0m \u001b[0mlyrics_html\u001b[0m \u001b[0;32mis\u001b[0m \u001b[0;32mnot\u001b[0m \u001b[0;32mNone\u001b[0m\u001b[0;34m:\u001b[0m\u001b[0;34m\u001b[0m\u001b[0;34m\u001b[0m\u001b[0m\n\u001b[1;32m     52\u001b[0m                 \u001b[0mretrieved_lyrics\u001b[0m \u001b[0;34m=\u001b[0m \u001b[0mlyrics_html\u001b[0m\u001b[0;34m.\u001b[0m\u001b[0mget_text\u001b[0m\u001b[0;34m(\u001b[0m\u001b[0;34m)\u001b[0m\u001b[0;34m\u001b[0m\u001b[0;34m\u001b[0m\u001b[0m\n\u001b[0;32m---> 53\u001b[0;31m             \u001b[0msongs_and_lyrics\u001b[0m\u001b[0;34m[\u001b[0m\u001b[0msong\u001b[0m\u001b[0;34m[\u001b[0m\u001b[0;34m'title'\u001b[0m\u001b[0;34m]\u001b[0m\u001b[0;34m]\u001b[0m\u001b[0;34m.\u001b[0m\u001b[0mappend\u001b[0m\u001b[0;34m(\u001b[0m\u001b[0mretrieved_lyrics\u001b[0m\u001b[0;34m)\u001b[0m\u001b[0;34m\u001b[0m\u001b[0;34m\u001b[0m\u001b[0m\n\u001b[0m\u001b[1;32m     54\u001b[0m \u001b[0;31m#                 retrieved_lyrics = lyrics_html.get_text()\u001b[0m\u001b[0;34m\u001b[0m\u001b[0;34m\u001b[0m\u001b[0;34m\u001b[0m\u001b[0m\n\u001b[1;32m     55\u001b[0m \u001b[0;31m#             except AttributeError:\u001b[0m\u001b[0;34m\u001b[0m\u001b[0;34m\u001b[0m\u001b[0;34m\u001b[0m\u001b[0m\n",
      "\u001b[0;31mUnboundLocalError\u001b[0m: local variable 'retrieved_lyrics' referenced before assignment"
     ]
    }
   ],
   "source": [
    "songs_and_lyrics = make_call(show_songs_df=False, lyrics=True, albums=False)"
   ]
  },
  {
   "cell_type": "code",
   "execution_count": 103,
   "metadata": {},
   "outputs": [],
   "source": [
    "with open('lyrics_1.json', 'w') as f:\n",
    "        json.dump(songs_and_lyrics, f)"
   ]
  },
  {
   "cell_type": "code",
   "execution_count": null,
   "metadata": {},
   "outputs": [],
   "source": []
  },
  {
   "cell_type": "code",
   "execution_count": null,
   "metadata": {},
   "outputs": [],
   "source": [
    "songs_and_lyrics_df.to_csv('songs_and_lyrics.csv',index=False)"
   ]
  },
  {
   "cell_type": "code",
   "execution_count": null,
   "metadata": {},
   "outputs": [],
   "source": []
  },
  {
   "cell_type": "code",
   "execution_count": null,
   "metadata": {},
   "outputs": [],
   "source": []
  },
  {
   "cell_type": "code",
   "execution_count": null,
   "metadata": {},
   "outputs": [],
   "source": [
    "https://api.genius.com/songs/378195?access_token=_Q2Mi2ftYFYIkFAUPY9lfkROyNXdj5ML8_6riblV-YCcfHvEvhy5k5Ax5zcWvd-E"
   ]
  },
  {
   "cell_type": "code",
   "execution_count": null,
   "metadata": {},
   "outputs": [],
   "source": [
    "songs_and_lyrics = {}\n",
    "for song in song_names_ids:\n",
    "    api_url = \"https://api.genius.com/songs/\"\n",
    "    payload = {'access_token': token}\n",
    "    r = requests.get(api_url + str(song['song_id']), params=payload)\n",
    "    if r.status_code == 200:\n",
    "        song_response = r.json()\n",
    "        lyrics_path = song_response['response']['song']['path']\n",
    "    \n",
    "        page_url = \"http://genius.com\" + lyrics_path\n",
    "        page = requests.get(page_url)\n",
    "        if page.status_code == 200:\n",
    "            html = BeautifulSoup(page.text, \"html.parser\")\n",
    "            [h.extract() for h in html('script')]\n",
    "            lyrics = html.find(“div”, class_=”lyrics”).get_text()\n",
    "            songs_and_lyrics[song.lower()] = lyrics\n",
    "    \n",
    "songs_and_lyrics_df = pd.DataFrame(data=songs_and_lyrics)\n",
    "return songs_and_lyrics_df\n",
    "            \n",
    "        \n",
    "        \n",
    "        "
   ]
  },
  {
   "cell_type": "code",
   "execution_count": 51,
   "metadata": {},
   "outputs": [],
   "source": [
    "def get_lyrics(converted_song_names):\n",
    "    songs_and_lyrics = {}\n",
    "    for song_name in converted_song_names:\n",
    "        url = 'https://api.lyrics.ovh/v1/Taylor Swift/' + song_name\n",
    "        lyrics_response = requests.get(url)\n",
    "        if lyrics_response.status_code == 200:\n",
    "            lyrics = json.loads(lyrics_response.text)['lyrics']\n",
    "            ascii_lyrics = lyrics.encode('ascii', 'replace').decode()\n",
    "            filtered_lyrics = ascii_lyrics.replace(\"\\n\", \" \").replace(\"\\r\", \" \").replace(',', ' ').replace('?', ' ').replace('(', ' ').replace(')', ' ').replace('.', ' ').lower()\n",
    "            lyric_words = [word for word in filtered_lyrics.split(\" \") if word != \"\"]\n",
    "            songs_and_lyrics[song_name.lower()] = lyric_words\n",
    "    \n",
    "    songs_and_lyrics_df = pd.DataFrame(data=songs_and_lyrics)\n",
    "    return songs_and_lyrics_df"
   ]
  },
  {
   "cell_type": "code",
   "execution_count": 54,
   "metadata": {},
   "outputs": [],
   "source": [
    "songs_and_lyrics_df.to_csv('songs_and_lyrics.csv',index=False)"
   ]
  },
  {
   "cell_type": "code",
   "execution_count": 40,
   "metadata": {},
   "outputs": [],
   "source": [
    "filename = 'songs_and_albums.json'\n",
    "with open(filename) as f_obj:\n",
    "    songs_and_albums = json.load(f_obj)\n",
    "new_songs_and_albums = []\n",
    "for song_album in songs_and_albums:\n",
    "    new_song_album = {\"song\": song_album[\"song\"].encode('ascii', 'ignore').decode(),\n",
    "                        \"album\": song_album[\"album\"].encode('ascii', 'ignore').decode()}\n",
    "    new_songs_and_albums.append(new_song_album)"
   ]
  }
 ],
 "metadata": {
  "kernelspec": {
   "display_name": "Python 3",
   "language": "python",
   "name": "python3"
  },
  "language_info": {
   "codemirror_mode": {
    "name": "ipython",
    "version": 3
   },
   "file_extension": ".py",
   "mimetype": "text/x-python",
   "name": "python",
   "nbconvert_exporter": "python",
   "pygments_lexer": "ipython3",
   "version": "3.9.2"
  }
 },
 "nbformat": 4,
 "nbformat_minor": 4
}
